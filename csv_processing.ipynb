{
 "cells": [
  {
   "cell_type": "code",
   "execution_count": 85,
   "id": "472e605e-303a-46da-adec-308e642aaf24",
   "metadata": {
    "execution": {
     "iopub.execute_input": "2024-10-15T09:41:27.628330Z",
     "iopub.status.busy": "2024-10-15T09:41:27.627224Z",
     "iopub.status.idle": "2024-10-15T09:41:27.643085Z",
     "shell.execute_reply": "2024-10-15T09:41:27.642282Z",
     "shell.execute_reply.started": "2024-10-15T09:41:27.628283Z"
    },
    "tags": []
   },
   "outputs": [],
   "source": [
    "from csv_processing_helpers import *\n",
    "from pathlib import Path"
   ]
  },
  {
   "cell_type": "code",
   "execution_count": 94,
   "id": "951e7406-108c-4db2-9763-57014e0df74e",
   "metadata": {
    "execution": {
     "iopub.execute_input": "2024-10-15T09:45:00.966639Z",
     "iopub.status.busy": "2024-10-15T09:45:00.965588Z",
     "iopub.status.idle": "2024-10-15T09:45:01.304226Z",
     "shell.execute_reply": "2024-10-15T09:45:01.303223Z",
     "shell.execute_reply.started": "2024-10-15T09:45:00.966592Z"
    },
    "tags": []
   },
   "outputs": [
    {
     "name": "stderr",
     "output_type": "stream",
     "text": [
      "/home/jupyter/work/resources/federative-learning-gradient-quantization/helpers.py:30: SettingWithCopyWarning: \n",
      "A value is trying to be set on a copy of a slice from a DataFrame\n",
      "\n",
      "See the caveats in the documentation: https://pandas.pydata.org/pandas-docs/stable/user_guide/indexing.html#returning-a-view-versus-a-copy\n",
      "  df[time_column][i] = df.iloc[i][time_column] - df.iloc[i - 1][time_column]\n",
      "/home/jupyter/work/resources/federative-learning-gradient-quantization/helpers.py:31: SettingWithCopyWarning: \n",
      "A value is trying to be set on a copy of a slice from a DataFrame\n",
      "\n",
      "See the caveats in the documentation: https://pandas.pydata.org/pandas-docs/stable/user_guide/indexing.html#returning-a-view-versus-a-copy\n",
      "  df[quantity_column][i] = df.iloc[i][quantity_column] - df.iloc[i - 1][quantity_column]\n",
      "/home/jupyter/work/resources/federative-learning-gradient-quantization/helpers.py:30: SettingWithCopyWarning: \n",
      "A value is trying to be set on a copy of a slice from a DataFrame\n",
      "\n",
      "See the caveats in the documentation: https://pandas.pydata.org/pandas-docs/stable/user_guide/indexing.html#returning-a-view-versus-a-copy\n",
      "  df[time_column][i] = df.iloc[i][time_column] - df.iloc[i - 1][time_column]\n",
      "/home/jupyter/work/resources/federative-learning-gradient-quantization/helpers.py:31: SettingWithCopyWarning: \n",
      "A value is trying to be set on a copy of a slice from a DataFrame\n",
      "\n",
      "See the caveats in the documentation: https://pandas.pydata.org/pandas-docs/stable/user_guide/indexing.html#returning-a-view-versus-a-copy\n",
      "  df[quantity_column][i] = df.iloc[i][quantity_column] - df.iloc[i - 1][quantity_column]\n",
      "/home/jupyter/work/resources/federative-learning-gradient-quantization/helpers.py:30: SettingWithCopyWarning: \n",
      "A value is trying to be set on a copy of a slice from a DataFrame\n",
      "\n",
      "See the caveats in the documentation: https://pandas.pydata.org/pandas-docs/stable/user_guide/indexing.html#returning-a-view-versus-a-copy\n",
      "  df[time_column][i] = df.iloc[i][time_column] - df.iloc[i - 1][time_column]\n",
      "/home/jupyter/work/resources/federative-learning-gradient-quantization/helpers.py:31: SettingWithCopyWarning: \n",
      "A value is trying to be set on a copy of a slice from a DataFrame\n",
      "\n",
      "See the caveats in the documentation: https://pandas.pydata.org/pandas-docs/stable/user_guide/indexing.html#returning-a-view-versus-a-copy\n",
      "  df[quantity_column][i] = df.iloc[i][quantity_column] - df.iloc[i - 1][quantity_column]\n",
      "/home/jupyter/work/resources/federative-learning-gradient-quantization/helpers.py:30: SettingWithCopyWarning: \n",
      "A value is trying to be set on a copy of a slice from a DataFrame\n",
      "\n",
      "See the caveats in the documentation: https://pandas.pydata.org/pandas-docs/stable/user_guide/indexing.html#returning-a-view-versus-a-copy\n",
      "  df[time_column][i] = df.iloc[i][time_column] - df.iloc[i - 1][time_column]\n",
      "/home/jupyter/work/resources/federative-learning-gradient-quantization/helpers.py:31: SettingWithCopyWarning: \n",
      "A value is trying to be set on a copy of a slice from a DataFrame\n",
      "\n",
      "See the caveats in the documentation: https://pandas.pydata.org/pandas-docs/stable/user_guide/indexing.html#returning-a-view-versus-a-copy\n",
      "  df[quantity_column][i] = df.iloc[i][quantity_column] - df.iloc[i - 1][quantity_column]\n",
      "/home/jupyter/work/resources/federative-learning-gradient-quantization/helpers.py:30: SettingWithCopyWarning: \n",
      "A value is trying to be set on a copy of a slice from a DataFrame\n",
      "\n",
      "See the caveats in the documentation: https://pandas.pydata.org/pandas-docs/stable/user_guide/indexing.html#returning-a-view-versus-a-copy\n",
      "  df[time_column][i] = df.iloc[i][time_column] - df.iloc[i - 1][time_column]\n",
      "/home/jupyter/work/resources/federative-learning-gradient-quantization/helpers.py:31: SettingWithCopyWarning: \n",
      "A value is trying to be set on a copy of a slice from a DataFrame\n",
      "\n",
      "See the caveats in the documentation: https://pandas.pydata.org/pandas-docs/stable/user_guide/indexing.html#returning-a-view-versus-a-copy\n",
      "  df[quantity_column][i] = df.iloc[i][quantity_column] - df.iloc[i - 1][quantity_column]\n",
      "/home/jupyter/work/resources/federative-learning-gradient-quantization/helpers.py:30: SettingWithCopyWarning: \n",
      "A value is trying to be set on a copy of a slice from a DataFrame\n",
      "\n",
      "See the caveats in the documentation: https://pandas.pydata.org/pandas-docs/stable/user_guide/indexing.html#returning-a-view-versus-a-copy\n",
      "  df[time_column][i] = df.iloc[i][time_column] - df.iloc[i - 1][time_column]\n",
      "/home/jupyter/work/resources/federative-learning-gradient-quantization/helpers.py:31: SettingWithCopyWarning: \n",
      "A value is trying to be set on a copy of a slice from a DataFrame\n",
      "\n",
      "See the caveats in the documentation: https://pandas.pydata.org/pandas-docs/stable/user_guide/indexing.html#returning-a-view-versus-a-copy\n",
      "  df[quantity_column][i] = df.iloc[i][quantity_column] - df.iloc[i - 1][quantity_column]\n"
     ]
    }
   ],
   "source": [
    "metrics = [\"transfer_quantity_GB\", \"transfer_summary_time_in_memory_sec\", \"accuracy\", \"loss\", \"mean_learning_time_by_epoch_sec\"]\n",
    "\n",
    "for file in Path(\".\").glob(\"*.csv\"):\n",
    "    if file.as_posix().endswith(\"cis.csv\"):\n",
    "        continue\n",
    "    new_path = f\"{file.stem}_with_cis.csv\"\n",
    "    df = pd.read_csv(file)\n",
    "    diff(df)\n",
    "    add_confidence_intervals(df, metrics)\n",
    "    df.to_csv(new_path, index=False)"
   ]
  },
  {
   "cell_type": "code",
   "execution_count": null,
   "id": "23102d64-33a8-4681-9bf7-1e9d4008abc4",
   "metadata": {},
   "outputs": [],
   "source": []
  }
 ],
 "metadata": {
  "kernelspec": {
   "display_name": "DataSphere Kernel",
   "language": "python",
   "name": "python3"
  },
  "language_info": {
   "codemirror_mode": {
    "name": "ipython",
    "version": 3
   },
   "file_extension": ".py",
   "mimetype": "text/x-python",
   "name": "python",
   "nbconvert_exporter": "python",
   "pygments_lexer": "ipython3",
   "version": "3.10.12"
  }
 },
 "nbformat": 4,
 "nbformat_minor": 5
}
